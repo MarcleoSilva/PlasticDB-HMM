{
 "cells": [
  {
   "cell_type": "markdown",
   "id": "e34f27ed",
   "metadata": {},
   "source": [
    "Build HMM profiles for plastic-degrading enzymes.\n",
    "\n",
    "Usage:\n",
    "```bash\n",
    "python build_hmms.py --fasta enzymes.faa --outdir hmms \\\n",
    "                        --cdhit_id 0.95 --min_seqs 4\n",
    "```"
   ]
  },
  {
   "cell_type": "code",
   "execution_count": null,
   "id": "21ffb516",
   "metadata": {},
   "outputs": [],
   "source": [
    "# Libraries\n",
    "import argparse, subprocess, tempfile, shutil, os, json\n",
    "from pathlib import Path\n",
    "from typing import List, Dict\n",
    "from Bio import SeqIO, SearchIO\n",
    "import requests, time\n",
    "from dotenv import load_dotenv\n"
   ]
  },
  {
   "cell_type": "code",
   "execution_count": 28,
   "id": "1d6c26ed",
   "metadata": {},
   "outputs": [
    {
     "name": "stdout",
     "output_type": "stream",
     "text": [
      "/home/marcleo/work/git_reps/PlasticDB-HMM\n",
      "Missing local uniprot_sprot.fasta. \n",
      " To download it (47GB), run:\n",
      " wget https://ftp.uniprot.org/pub/databases/uniprot/uniref/uniref90/uniref90.fasta.gz\n"
     ]
    }
   ],
   "source": [
    "# Configuration\n",
    "## Working Directory\n",
    "load_dotenv()\n",
    "working_directory = os.getenv(\"working_dir\")\n",
    "os.chdir(working_directory)\n",
    "print(os.getcwd())\n",
    "## Paths\n",
    "### Databases\n",
    "if os.path.exists(\"input/uniprot_sprot.fasta\"):\n",
    "    print(\"Using local uniprot_sprot.fasta\")\n",
    "    Local_Uniprot_Database = \"input/uniprot_sprot.fasta\"\n",
    "else:\n",
    "    print(\"Missing local uniprot_sprot.fasta. \\n To download it (47GB), run:\\n wget https://ftp.uniprot.org/pub/databases/uniprot/uniref/uniref90/uniref90.fasta.gz\")\n",
    "\n",
    "Plastic_Seq_Database = \"input/PlasticDB.fasta\"\n",
    "\n",
    "TEST_Seq_Database = \"input/TEST_FASTA.fasta\"\n",
    "\n",
    "### Outputs\n",
    "First_Cluster_output_path = \"output/First_Cluster/\"\n",
    "Second_Cluster_output_path = \"output/Second_Cluster/\"\n",
    "\n",
    "## Parameters\n",
    "CDHIT_Identity = 0.95\n",
    "CDHIT_prefix = \"CDHIT\"\n",
    "WORD_SIZE = 5"
   ]
  },
  {
   "cell_type": "code",
   "execution_count": 29,
   "id": "b90ec3f2",
   "metadata": {},
   "outputs": [
    {
     "name": "stdout",
     "output_type": "stream",
     "text": [
      "================================================================\n",
      "Program: CD-HIT, V4.8.1 (+OpenMP), Apr 24 2025, 22:00:32\n",
      "Command: cd-hit -i input/TEST_FASTA.fasta -o\n",
      "         output/First_Cluster/CDHIT.fasta -c 0.95 -n 5 -g 1\n",
      "\n",
      "Started: Wed May 21 19:51:37 2025\n",
      "================================================================\n",
      "                            Output                              \n",
      "----------------------------------------------------------------\n",
      "total seq: 45\n",
      "longest and shortest : 639 and 201\n",
      "Total letters: 20446\n",
      "Sequences have been sorted\n",
      "\n",
      "Approximated minimal memory consumption:\n",
      "Sequence        : 0M\n",
      "Buffer          : 1 X 16M = 16M\n",
      "Table           : 1 X 65M = 65M\n",
      "Miscellaneous   : 0M\n",
      "Total           : 81M\n",
      "\n",
      "Table limit with the given memory limit:\n",
      "Max number of representatives: 1208273\n",
      "Max number of word counting entries: 89810798\n",
      "\n",
      "comparing sequences from          0  to         45\n",
      "\n",
      "       45  finished         37  clusters\n",
      "\n",
      "Approximated maximum memory consumption: 81M\n",
      "writing new database\n",
      "writing clustering information\n",
      "program completed !\n",
      "\n",
      "Total CPU time 0.05\n",
      "CD-HIT clustering completed. Output: CDHIT.fasta\n"
     ]
    },
    {
     "data": {
      "text/plain": [
       "'output/First_Cluster/CDHIT.fasta'"
      ]
     },
     "execution_count": 29,
     "metadata": {},
     "output_type": "execute_result"
    }
   ],
   "source": [
    "# Step 1: Cluster sequences using CD-HIT\n",
    "\n",
    "def run_cdhit(input_fasta, output_path, output_prefix, identity, word_size):\n",
    "    output_file = f\"{output_path}{output_prefix}.fasta\"\n",
    "    mdhit_cmd = [\n",
    "        \"cd-hit\",\n",
    "        \"-i\", input_fasta,\n",
    "        \"-o\", output_file,\n",
    "        \"-c\", str(identity),\n",
    "        \"-n\", str(word_size),\n",
    "        \"-g\", \"1\",\n",
    "    ]\n",
    "    subprocess.run(mdhit_cmd, check=True)\n",
    "    print(f\"CD-HIT clustering completed. Output: {output_prefix}.fasta\")\n",
    "    return output_file\n",
    "\n",
    "run_cdhit(TEST_Seq_Database, First_Cluster_output_path, CDHIT_prefix, CDHIT_Identity, WORD_SIZE)"
   ]
  },
  {
   "cell_type": "markdown",
   "id": "86a422a4",
   "metadata": {},
   "source": []
  }
 ],
 "metadata": {
  "kernelspec": {
   "display_name": "plastic_hmms",
   "language": "python",
   "name": "python3"
  },
  "language_info": {
   "codemirror_mode": {
    "name": "ipython",
    "version": 3
   },
   "file_extension": ".py",
   "mimetype": "text/x-python",
   "name": "python",
   "nbconvert_exporter": "python",
   "pygments_lexer": "ipython3",
   "version": "3.10.17"
  }
 },
 "nbformat": 4,
 "nbformat_minor": 5
}
